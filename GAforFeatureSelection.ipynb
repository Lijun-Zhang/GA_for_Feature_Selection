{
 "cells": [
  {
   "cell_type": "code",
   "execution_count": 54,
   "metadata": {},
   "outputs": [],
   "source": [
    "import numpy as np\n",
    "import pandas as pd\n",
    "import random"
   ]
  },
  {
   "cell_type": "code",
   "execution_count": 56,
   "metadata": {},
   "outputs": [],
   "source": [
    "data_train = pd.read_csv('\\data_train.csv')\n",
    "data_test = pd.read_csv('\\data_test.csv')"
   ]
  },
  {
   "cell_type": "code",
   "execution_count": 58,
   "metadata": {},
   "outputs": [],
   "source": [
    "#合并训练集测试集\n",
    "data = data_train.append(data_test).drop(['id'], axis=1)\n",
    "feature_names = data.columns"
   ]
  },
  {
   "cell_type": "code",
   "execution_count": 61,
   "metadata": {},
   "outputs": [],
   "source": [
    "pop_size = 20      # 种群数量  \n",
    "max_value = 10      # 基因中允许出现的最大值  \n",
    "chrom_length = 42       # 染色体长度  \n",
    "pc = 0.6            # 交配概率  \n",
    "pm = 0.01           # 变异概率  \n",
    "results = [[]]      # 存储每一代的最优解，N个二元组  \n",
    "fit_value = []      # 个体适应度  \n",
    "fit_mean = []       # 平均适应度  \n",
    "\n",
    "#初始化种群\n",
    "def geneEncoding(pop_size, chrom_length):  \n",
    "    pop = [[]]  \n",
    "    for i in range(pop_size):  \n",
    "        temp = []  \n",
    "        for j in range(chrom_length):  \n",
    "            temp.append(random.randint(0, 1))  \n",
    "        pop.append(temp)  \n",
    "  \n",
    "    return pop[1:] \n",
    "pop = geneEncoding(pop_size, chrom_length) "
   ]
  },
  {
   "cell_type": "code",
   "execution_count": 74,
   "metadata": {},
   "outputs": [],
   "source": [
    "from sklearn import tree\n",
    "from sklearn.model_selection import cross_val_score\n",
    "\n",
    "#提取数据与标签，根据自己的数据集作相应处理\n",
    "data_X = data.drop(['label'], axis=1)\n",
    "data_y = data.label\n",
    "\n",
    "#计算适应度，使用决策树的准确率作为适应度\n",
    "def calFitness(pop, chrom_length, max_value, data_X, data_y, feature_names):  \n",
    "    \n",
    "    obj_value = []     \n",
    "    for i in range(len(pop)): \n",
    "        data_X_test = data_X\n",
    "        for j in range(len(pop[i])):\n",
    "            if pop[i][j] == 0:\n",
    "                data_X_test = data_X_test.drop([feature_names[j]], axis=1)\n",
    "        clf = tree.DecisionTreeClassifier()\n",
    "        score = cross_val_score(clf, data_X_test, data_y, cv=5, scoring='f1').mean()\n",
    "        obj_value.append(score)\n",
    "    return obj_value"
   ]
  },
  {
   "cell_type": "code",
   "execution_count": 36,
   "metadata": {},
   "outputs": [],
   "source": [
    "#种群选择\n",
    "def sum(fit_value):  \n",
    "    total = 0  \n",
    "    for i in range(len(fit_value)):  \n",
    "        total += fit_value[i]  \n",
    "    return total  \n",
    "  \n",
    "  \n",
    "def cumsum(fit_value):  \n",
    "    for i in range(len(fit_value)-2, -1, -1):  \n",
    "        t = 0  \n",
    "        j = 0  \n",
    "        while(j <= i):  \n",
    "            t += fit_value[j]  \n",
    "            j += 1  \n",
    "        fit_value[i] = t  \n",
    "        fit_value[len(fit_value)-1] = 1  \n",
    "  \n",
    "  \n",
    "def selection(pop, fit_value):  \n",
    "    newfit_value = []  \n",
    "    # 适应度总和  \n",
    "    total_fit = sum(fit_value)  \n",
    "    for i in range(len(fit_value)):  \n",
    "        newfit_value.append(fit_value[i] / total_fit)  \n",
    "    # 计算累计概率  \n",
    "    cumsum(newfit_value)  \n",
    "    ms = []  \n",
    "    pop_len = len(pop)  \n",
    "    for i in range(pop_len):  \n",
    "        ms.append(random.random())  \n",
    "    ms.sort()  \n",
    "    fitin = 0  \n",
    "    newin = 0  \n",
    "    newpop = pop  \n",
    "    # 转轮盘选择法  \n",
    "    while newin < pop_len:  \n",
    "        if(ms[newin] < newfit_value[fitin]):  \n",
    "            newpop[newin] = pop[fitin]  \n",
    "            newin = newin + 1  \n",
    "        else:  \n",
    "            fitin = fitin + 1  \n",
    "    pop = newpop"
   ]
  },
  {
   "cell_type": "code",
   "execution_count": 37,
   "metadata": {},
   "outputs": [],
   "source": [
    "#交配\n",
    "def crossover(pop, pc):  \n",
    "    pop_len = len(pop)  \n",
    "    for i in range(pop_len - 1):  \n",
    "        if(random.random() < pc):  \n",
    "            cpoint = random.randint(0,len(pop[0]))  \n",
    "            temp1 = []  \n",
    "            temp2 = []  \n",
    "            temp1.extend(pop[i][0:cpoint])  \n",
    "            temp1.extend(pop[i+1][cpoint:len(pop[i])])  \n",
    "            temp2.extend(pop[i+1][0:cpoint])  \n",
    "            temp2.extend(pop[i][cpoint:len(pop[i])])  \n",
    "            pop[i] = temp1  \n",
    "            pop[i+1] = temp2 "
   ]
  },
  {
   "cell_type": "code",
   "execution_count": 38,
   "metadata": {},
   "outputs": [],
   "source": [
    "#变异\n",
    "def mutation(pop, pm):  \n",
    "    px = len(pop)  \n",
    "    py = len(pop[0])  \n",
    "      \n",
    "    for i in range(px):  \n",
    "        if(random.random() < pm):  \n",
    "            mpoint = random.randint(0, py-1)  \n",
    "            if(pop[i][mpoint] == 1):  \n",
    "                pop[i][mpoint] = 0  \n",
    "            else:  \n",
    "                pop[i][mpoint] = 1  "
   ]
  },
  {
   "cell_type": "code",
   "execution_count": 39,
   "metadata": {},
   "outputs": [],
   "source": [
    "#最优解\n",
    "def best(pop, fit_value):\n",
    "    px = len(pop)\n",
    "    best_individual = []\n",
    "    best_fit = fit_value[0]\n",
    "    for i in range(1, px):\n",
    "        if(fit_value[i] > best_fit):\n",
    "            best_fit = fit_value[i]\n",
    "            best_individual = pop[i]\n",
    "    return [best_individual, best_fit]"
   ]
  },
  {
   "cell_type": "code",
   "execution_count": 41,
   "metadata": {},
   "outputs": [
    {
     "name": "stdout",
     "output_type": "stream",
     "text": [
      "Wall time: 2h 46min 48s\n"
     ]
    }
   ],
   "source": [
    "def mean(obj_value):\n",
    "    return sum(obj_value)/len(obj_value)\n",
    "for i in range(50):  \n",
    "    obj_value = calFitness(pop, chrom_length, max_value, data_X, data_y, feature_names)        # 个体评价  \n",
    "     \n",
    "    best_individual, best_fit = best(pop, obj_value)        # 第一个存储最优的解, 第二个存储最优基因  \n",
    "    results.append([best_individual,best_fit,mean(obj_value)])  \n",
    "    \n",
    "    selection(pop, obj_value)       # 新种群复制  \n",
    "    crossover(pop, pc)      # 交配  \n",
    "    mutation(pop, pm)       # 变异  \n",
    "  \n",
    "results = results[1:]  \n",
    "results.sort()  "
   ]
  }
 ],
 "metadata": {
  "kernelspec": {
   "display_name": "Python 3",
   "language": "python",
   "name": "python3"
  },
  "language_info": {
   "codemirror_mode": {
    "name": "ipython",
    "version": 3
   },
   "file_extension": ".py",
   "mimetype": "text/x-python",
   "name": "python",
   "nbconvert_exporter": "python",
   "pygments_lexer": "ipython3",
   "version": "3.6.4"
  }
 },
 "nbformat": 4,
 "nbformat_minor": 2
}
